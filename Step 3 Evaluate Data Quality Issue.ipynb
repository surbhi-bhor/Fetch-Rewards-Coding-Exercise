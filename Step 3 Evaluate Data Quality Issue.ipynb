{
 "cells": [
  {
   "cell_type": "markdown",
   "id": "15587267-26a0-4723-a2d7-1376651de1fa",
   "metadata": {},
   "source": [
    "### Imports"
   ]
  },
  {
   "cell_type": "code",
   "execution_count": 1,
   "id": "31b192d3-6e35-412d-b1a4-f387aa37aee4",
   "metadata": {},
   "outputs": [],
   "source": [
    "import pandas as pd\n",
    "import numpy as np\n",
    "import json"
   ]
  },
  {
   "cell_type": "code",
   "execution_count": 2,
   "id": "8031fa7d-04fe-43e7-a45e-e039291462b8",
   "metadata": {},
   "outputs": [],
   "source": [
    "# Load JSON files into pandas DataFrames with lines=True to handle multiple JSON objects\n",
    "users_df = pd.read_json('data/users.json', lines=True)\n",
    "brands_df = pd.read_json('data/brands.json', lines=True)\n",
    "receipts_df = pd.read_json('data/receipts.json', lines=True)"
   ]
  },
  {
   "cell_type": "markdown",
   "id": "674bfa78-29e5-4dbd-b166-f60994e849fb",
   "metadata": {},
   "source": [
    "### 1. Users Data"
   ]
  },
  {
   "cell_type": "markdown",
   "id": "b031b069-ff54-4471-941b-87b714dcffbb",
   "metadata": {},
   "source": [
    "#### Overview of the Data"
   ]
  },
  {
   "cell_type": "code",
   "execution_count": 3,
   "id": "32ea957d-e11c-44b3-9448-1f883913a006",
   "metadata": {},
   "outputs": [
    {
     "data": {
      "text/html": [
       "<div>\n",
       "<style scoped>\n",
       "    .dataframe tbody tr th:only-of-type {\n",
       "        vertical-align: middle;\n",
       "    }\n",
       "\n",
       "    .dataframe tbody tr th {\n",
       "        vertical-align: top;\n",
       "    }\n",
       "\n",
       "    .dataframe thead th {\n",
       "        text-align: right;\n",
       "    }\n",
       "</style>\n",
       "<table border=\"1\" class=\"dataframe\">\n",
       "  <thead>\n",
       "    <tr style=\"text-align: right;\">\n",
       "      <th></th>\n",
       "      <th>_id</th>\n",
       "      <th>active</th>\n",
       "      <th>createdDate</th>\n",
       "      <th>lastLogin</th>\n",
       "      <th>role</th>\n",
       "      <th>signUpSource</th>\n",
       "      <th>state</th>\n",
       "    </tr>\n",
       "  </thead>\n",
       "  <tbody>\n",
       "    <tr>\n",
       "      <th>0</th>\n",
       "      <td>5ff1e194b6a9d73a3a9f1052</td>\n",
       "      <td>True</td>\n",
       "      <td>2021-01-03 15:24:04.800</td>\n",
       "      <td>2021-01-03 15:25:37.858</td>\n",
       "      <td>consumer</td>\n",
       "      <td>Email</td>\n",
       "      <td>WI</td>\n",
       "    </tr>\n",
       "    <tr>\n",
       "      <th>1</th>\n",
       "      <td>5ff1e194b6a9d73a3a9f1052</td>\n",
       "      <td>True</td>\n",
       "      <td>2021-01-03 15:24:04.800</td>\n",
       "      <td>2021-01-03 15:25:37.858</td>\n",
       "      <td>consumer</td>\n",
       "      <td>Email</td>\n",
       "      <td>WI</td>\n",
       "    </tr>\n",
       "    <tr>\n",
       "      <th>2</th>\n",
       "      <td>5ff1e194b6a9d73a3a9f1052</td>\n",
       "      <td>True</td>\n",
       "      <td>2021-01-03 15:24:04.800</td>\n",
       "      <td>2021-01-03 15:25:37.858</td>\n",
       "      <td>consumer</td>\n",
       "      <td>Email</td>\n",
       "      <td>WI</td>\n",
       "    </tr>\n",
       "    <tr>\n",
       "      <th>3</th>\n",
       "      <td>5ff1e1eacfcf6c399c274ae6</td>\n",
       "      <td>True</td>\n",
       "      <td>2021-01-03 15:25:30.554</td>\n",
       "      <td>2021-01-03 15:25:30.597</td>\n",
       "      <td>consumer</td>\n",
       "      <td>Email</td>\n",
       "      <td>WI</td>\n",
       "    </tr>\n",
       "    <tr>\n",
       "      <th>4</th>\n",
       "      <td>5ff1e194b6a9d73a3a9f1052</td>\n",
       "      <td>True</td>\n",
       "      <td>2021-01-03 15:24:04.800</td>\n",
       "      <td>2021-01-03 15:25:37.858</td>\n",
       "      <td>consumer</td>\n",
       "      <td>Email</td>\n",
       "      <td>WI</td>\n",
       "    </tr>\n",
       "  </tbody>\n",
       "</table>\n",
       "</div>"
      ],
      "text/plain": [
       "                        _id  active             createdDate  \\\n",
       "0  5ff1e194b6a9d73a3a9f1052    True 2021-01-03 15:24:04.800   \n",
       "1  5ff1e194b6a9d73a3a9f1052    True 2021-01-03 15:24:04.800   \n",
       "2  5ff1e194b6a9d73a3a9f1052    True 2021-01-03 15:24:04.800   \n",
       "3  5ff1e1eacfcf6c399c274ae6    True 2021-01-03 15:25:30.554   \n",
       "4  5ff1e194b6a9d73a3a9f1052    True 2021-01-03 15:24:04.800   \n",
       "\n",
       "                lastLogin      role signUpSource state  \n",
       "0 2021-01-03 15:25:37.858  consumer        Email    WI  \n",
       "1 2021-01-03 15:25:37.858  consumer        Email    WI  \n",
       "2 2021-01-03 15:25:37.858  consumer        Email    WI  \n",
       "3 2021-01-03 15:25:30.597  consumer        Email    WI  \n",
       "4 2021-01-03 15:25:37.858  consumer        Email    WI  "
      ]
     },
     "execution_count": 3,
     "metadata": {},
     "output_type": "execute_result"
    }
   ],
   "source": [
    "# Flatten the nested objects (_id and dates)\n",
    "users_df['_id'] = users_df['_id'].apply(lambda x: x['$oid'])\n",
    "users_df['createdDate'] = users_df['createdDate'].apply(lambda x: pd.to_datetime(x['$date'], unit='ms') if isinstance(x, dict) else pd.NaT)\n",
    "users_df['lastLogin'] = users_df['lastLogin'].apply(lambda x: pd.to_datetime(x['$date'], unit='ms') if isinstance(x, dict) else pd.NaT)\n",
    "users_df.head()"
   ]
  },
  {
   "cell_type": "code",
   "execution_count": 28,
   "id": "ccb97e7e-854c-4ae7-aac9-9cf71d3e589d",
   "metadata": {},
   "outputs": [
    {
     "name": "stdout",
     "output_type": "stream",
     "text": [
      "Data types of each column:\n",
      "_id                     object\n",
      "active                    bool\n",
      "createdDate     datetime64[ns]\n",
      "lastLogin       datetime64[ns]\n",
      "role                    object\n",
      "signUpSource            object\n",
      "state                   object\n",
      "dtype: object\n",
      "\n",
      "Shape: (495, 7)\n"
     ]
    }
   ],
   "source": [
    "print(f\"Data types of each column:\\n{users_df.dtypes}\")\n",
    "print(f\"\\nShape: {users_df.shape}\")"
   ]
  },
  {
   "cell_type": "markdown",
   "id": "0aa1a2f8-4b4e-4d01-b104-0c26bfea9642",
   "metadata": {},
   "source": [
    "#### Check for Missing Values"
   ]
  },
  {
   "cell_type": "code",
   "execution_count": 25,
   "id": "8e6d5564-acd8-47f2-b133-b8dd8ddbd04c",
   "metadata": {},
   "outputs": [
    {
     "name": "stdout",
     "output_type": "stream",
     "text": [
      "Missing Values per Column:\n",
      "_id              0\n",
      "active           0\n",
      "createdDate      0\n",
      "lastLogin       62\n",
      "role             0\n",
      "signUpSource    48\n",
      "state           56\n",
      "dtype: int64\n"
     ]
    }
   ],
   "source": [
    "missing_values = users_df.isnull().sum()\n",
    "print(\"Missing Values per Column:\")\n",
    "print(missing_values)"
   ]
  },
  {
   "cell_type": "markdown",
   "id": "00f43f75-b9b1-4184-b39d-4a19f8aebe28",
   "metadata": {},
   "source": [
    "1. lastLogin: 62 missing values. This means we don’t have information about the last login time for these users, which may affect understanding their activity status.\n",
    "2. signUpSource: 48 missing values. Without this, it’s unclear how these users signed up, which could impact marketing or user acquisition analysis.\n",
    "3. state: 56 missing values. Missing state information may limit geographical analysis, making it harder to understand the distribution of users across regions."
   ]
  },
  {
   "cell_type": "markdown",
   "id": "ccf009e1-47e2-442a-9b83-350f0411c6f8",
   "metadata": {},
   "source": [
    "#### Check for Duplicate User IDs"
   ]
  },
  {
   "cell_type": "code",
   "execution_count": 27,
   "id": "86a141e1-e9d0-4cb4-8efe-bf974e662b5a",
   "metadata": {
    "scrolled": true
   },
   "outputs": [
    {
     "name": "stdout",
     "output_type": "stream",
     "text": [
      "\n",
      "Count of Duplicate User IDs:\n",
      "54943462e4b07e684157a532    20\n",
      "5fc961c3b8cfca11a077dd33    20\n",
      "5ff5d15aeb7c7d12096d91a2    18\n",
      "5fa41775898c7a11a6bcef3e    18\n",
      "59c124bae4b0299e55b0f330    18\n",
      "                            ..\n",
      "60229990b57b8a12187fe9e0     2\n",
      "601c2c05969c0b11f7d0b097     2\n",
      "5ff73b90eb7c7d31ca8a452b     2\n",
      "5ffcb47d04929111f6e9256c     2\n",
      "5ff7268eeb7c7d12096da2a9     2\n",
      "Name: _id, Length: 70, dtype: int64\n",
      "\n",
      "Total Number of Unique User IDs that are Repeated: 70\n"
     ]
    }
   ],
   "source": [
    "duplicate_ids = users_df['_id'].value_counts()[lambda x: x > 1]\n",
    "print(f\"\\nCount of Duplicate User IDs:\\n{duplicate_ids}\")\n",
    "print(f\"\\nTotal Number of Unique User IDs that are Repeated: {len(duplicate_ids)}\")"
   ]
  },
  {
   "cell_type": "markdown",
   "id": "bed356a7-e56c-496e-b44f-88dd748d202e",
   "metadata": {},
   "source": [
    "There are 70 unique user IDs that are repeated in the dataset, with some IDs appearing up to 20 times. This means that for some users, the same user ID is recorded multiple times, which indicates a significant data duplication issue."
   ]
  },
  {
   "cell_type": "markdown",
   "id": "ff431f2d-85a5-4737-97fd-f0b79a18d3c5",
   "metadata": {},
   "source": [
    "#### Check for Role Inconsistencies"
   ]
  },
  {
   "cell_type": "code",
   "execution_count": 7,
   "id": "2b21146e-1bf0-44fc-8b02-c558c8a7bb8e",
   "metadata": {},
   "outputs": [
    {
     "name": "stdout",
     "output_type": "stream",
     "text": [
      "\n",
      "Total Records with Role Inconsistencies (Non 'consumer'): 82\n",
      "Roles found: ['fetch-staff']\n"
     ]
    }
   ],
   "source": [
    "# Check for inconsistencies in 'role' field (should only be 'consumer')\n",
    "inconsistent_roles = users_df[~users_df['role'].str.lower().isin(['consumer'])]\n",
    "print(f\"\\nTotal Records with Role Inconsistencies (Non 'consumer'): {len(inconsistent_roles)}\")\n",
    "print(f\"Roles found: {inconsistent_roles['role'].unique()}\")"
   ]
  },
  {
   "cell_type": "markdown",
   "id": "8a5bf935-60f6-4674-92d0-176a5648fb26",
   "metadata": {},
   "source": [
    "In the dataset, the role field is supposed to only have the value \"consumer.\" However, when checking for inconsistencies, 82 records had a different role value, specifically \"fetch-staff.\""
   ]
  },
  {
   "cell_type": "markdown",
   "id": "57853bc0-814f-4ed0-9863-bfcd28f2444f",
   "metadata": {},
   "source": [
    "#### Validate State Abbreviations"
   ]
  },
  {
   "cell_type": "code",
   "execution_count": 8,
   "id": "efcd1192-b37c-4e33-83f7-2cd5ffa1d588",
   "metadata": {},
   "outputs": [
    {
     "name": "stdout",
     "output_type": "stream",
     "text": [
      "\n",
      "Invalid State Abbreviations: [nan]\n",
      "\n",
      "Total number of rows with invalid states: 56\n"
     ]
    }
   ],
   "source": [
    "import us\n",
    "\n",
    "# Get a list of valid state abbreviations using the 'us' library\n",
    "valid_states = [state.abbr for state in us.states.STATES]\n",
    "\n",
    "# Filter out rows where the state is invalid\n",
    "invalid_state_rows = users_df[~users_df['state'].isin(valid_states)]\n",
    "\n",
    "# Get the unique invalid states\n",
    "unique_invalid_states = invalid_state_rows['state'].unique()\n",
    "\n",
    "# Print the unique invalid states and the count of rows with invalid state abbreviations\n",
    "print(f\"\\nInvalid State Abbreviations: {unique_invalid_states}\")\n",
    "print(f\"\\nTotal number of rows with invalid states: {len(invalid_state_rows)}\")\n"
   ]
  },
  {
   "cell_type": "markdown",
   "id": "bf685e75-9e37-48db-a7c5-031d5fcc7649",
   "metadata": {},
   "source": [
    "### 2. Brands Data"
   ]
  },
  {
   "cell_type": "markdown",
   "id": "6b83acf2-77ae-4f5a-b649-9bcff4bfca93",
   "metadata": {},
   "source": [
    "#### Overview of the Data"
   ]
  },
  {
   "cell_type": "code",
   "execution_count": 10,
   "id": "91a53f40-6181-41d3-9d8d-ef9f383d04c8",
   "metadata": {
    "scrolled": true
   },
   "outputs": [
    {
     "name": "stdout",
     "output_type": "stream",
     "text": [
      "Data types of each column:\n",
      "_id              object\n",
      "barcode           int64\n",
      "category         object\n",
      "categoryCode     object\n",
      "cpg              object\n",
      "name             object\n",
      "topBrand        float64\n",
      "brandCode        object\n",
      "dtype: object\n",
      "\n",
      "Shape: (1167, 8)\n"
     ]
    }
   ],
   "source": [
    "print(f\"Data types of each column:\\n{brands_df.dtypes}\")\n",
    "print(f\"\\nShape: {brands_df.shape}\")"
   ]
  },
  {
   "cell_type": "markdown",
   "id": "7aae41c9-b352-426f-a944-c78882abd30a",
   "metadata": {},
   "source": [
    "Issue with topBrand Field in brands.json:\n",
    "\n",
    "While loading brands.json using pandas, the topBrand field, originally encoded as boolean (true/false), was incorrectly interpreted as float64. This happened due to the presence of missing (NaN) values, which pandas represents as floats, causing the entire column to be coerced to float64. "
   ]
  },
  {
   "cell_type": "code",
   "execution_count": 11,
   "id": "9cefc012-ff8b-45c4-94b5-4579fcc18b7e",
   "metadata": {
    "scrolled": true
   },
   "outputs": [
    {
     "data": {
      "text/html": [
       "<div>\n",
       "<style scoped>\n",
       "    .dataframe tbody tr th:only-of-type {\n",
       "        vertical-align: middle;\n",
       "    }\n",
       "\n",
       "    .dataframe tbody tr th {\n",
       "        vertical-align: top;\n",
       "    }\n",
       "\n",
       "    .dataframe thead th {\n",
       "        text-align: right;\n",
       "    }\n",
       "</style>\n",
       "<table border=\"1\" class=\"dataframe\">\n",
       "  <thead>\n",
       "    <tr style=\"text-align: right;\">\n",
       "      <th></th>\n",
       "      <th>_id</th>\n",
       "      <th>barcode</th>\n",
       "      <th>category</th>\n",
       "      <th>categoryCode</th>\n",
       "      <th>name</th>\n",
       "      <th>topBrand</th>\n",
       "      <th>brandCode</th>\n",
       "      <th>cpg.$id</th>\n",
       "      <th>cpg.$ref</th>\n",
       "    </tr>\n",
       "  </thead>\n",
       "  <tbody>\n",
       "    <tr>\n",
       "      <th>0</th>\n",
       "      <td>601ac115be37ce2ead437551</td>\n",
       "      <td>511111019862</td>\n",
       "      <td>Baking</td>\n",
       "      <td>BAKING</td>\n",
       "      <td>test brand @1612366101024</td>\n",
       "      <td>0.0</td>\n",
       "      <td>NaN</td>\n",
       "      <td>601ac114be37ce2ead437550</td>\n",
       "      <td>Cogs</td>\n",
       "    </tr>\n",
       "    <tr>\n",
       "      <th>1</th>\n",
       "      <td>601c5460be37ce2ead43755f</td>\n",
       "      <td>511111519928</td>\n",
       "      <td>Beverages</td>\n",
       "      <td>BEVERAGES</td>\n",
       "      <td>Starbucks</td>\n",
       "      <td>0.0</td>\n",
       "      <td>STARBUCKS</td>\n",
       "      <td>5332f5fbe4b03c9a25efd0ba</td>\n",
       "      <td>Cogs</td>\n",
       "    </tr>\n",
       "    <tr>\n",
       "      <th>2</th>\n",
       "      <td>601ac142be37ce2ead43755d</td>\n",
       "      <td>511111819905</td>\n",
       "      <td>Baking</td>\n",
       "      <td>BAKING</td>\n",
       "      <td>test brand @1612366146176</td>\n",
       "      <td>0.0</td>\n",
       "      <td>TEST BRANDCODE @1612366146176</td>\n",
       "      <td>601ac142be37ce2ead437559</td>\n",
       "      <td>Cogs</td>\n",
       "    </tr>\n",
       "    <tr>\n",
       "      <th>3</th>\n",
       "      <td>601ac142be37ce2ead43755a</td>\n",
       "      <td>511111519874</td>\n",
       "      <td>Baking</td>\n",
       "      <td>BAKING</td>\n",
       "      <td>test brand @1612366146051</td>\n",
       "      <td>0.0</td>\n",
       "      <td>TEST BRANDCODE @1612366146051</td>\n",
       "      <td>601ac142be37ce2ead437559</td>\n",
       "      <td>Cogs</td>\n",
       "    </tr>\n",
       "    <tr>\n",
       "      <th>4</th>\n",
       "      <td>601ac142be37ce2ead43755e</td>\n",
       "      <td>511111319917</td>\n",
       "      <td>Candy &amp; Sweets</td>\n",
       "      <td>CANDY_AND_SWEETS</td>\n",
       "      <td>test brand @1612366146827</td>\n",
       "      <td>0.0</td>\n",
       "      <td>TEST BRANDCODE @1612366146827</td>\n",
       "      <td>5332fa12e4b03c9a25efd1e7</td>\n",
       "      <td>Cogs</td>\n",
       "    </tr>\n",
       "  </tbody>\n",
       "</table>\n",
       "</div>"
      ],
      "text/plain": [
       "                        _id       barcode        category      categoryCode  \\\n",
       "0  601ac115be37ce2ead437551  511111019862          Baking            BAKING   \n",
       "1  601c5460be37ce2ead43755f  511111519928       Beverages         BEVERAGES   \n",
       "2  601ac142be37ce2ead43755d  511111819905          Baking            BAKING   \n",
       "3  601ac142be37ce2ead43755a  511111519874          Baking            BAKING   \n",
       "4  601ac142be37ce2ead43755e  511111319917  Candy & Sweets  CANDY_AND_SWEETS   \n",
       "\n",
       "                        name  topBrand                      brandCode  \\\n",
       "0  test brand @1612366101024       0.0                            NaN   \n",
       "1                  Starbucks       0.0                      STARBUCKS   \n",
       "2  test brand @1612366146176       0.0  TEST BRANDCODE @1612366146176   \n",
       "3  test brand @1612366146051       0.0  TEST BRANDCODE @1612366146051   \n",
       "4  test brand @1612366146827       0.0  TEST BRANDCODE @1612366146827   \n",
       "\n",
       "                    cpg.$id cpg.$ref  \n",
       "0  601ac114be37ce2ead437550     Cogs  \n",
       "1  5332f5fbe4b03c9a25efd0ba     Cogs  \n",
       "2  601ac142be37ce2ead437559     Cogs  \n",
       "3  601ac142be37ce2ead437559     Cogs  \n",
       "4  5332fa12e4b03c9a25efd1e7     Cogs  "
      ]
     },
     "execution_count": 11,
     "metadata": {},
     "output_type": "execute_result"
    }
   ],
   "source": [
    "# Flatten the nested objects (_id and cpg - id, ref)\n",
    "brands_df['_id'] = brands_df['_id'].apply(lambda x: x['$oid'] if isinstance(x, dict) else x)\n",
    "brands_df['cpg.$id'] = brands_df['cpg'].apply(lambda x: x['$id']['$oid'] if isinstance(x, dict) and '$id' in x else None)\n",
    "brands_df['cpg.$ref'] = brands_df['cpg'].apply(lambda x: x['$ref'] if isinstance(x, dict) else None)\n",
    "\n",
    "# Drop the original nested 'cpg' field\n",
    "brands_df = brands_df.drop(columns=['cpg'])\n",
    "brands_df.head()"
   ]
  },
  {
   "cell_type": "markdown",
   "id": "22d40f46-5ac2-448e-b4e1-5c3a233a4a27",
   "metadata": {},
   "source": [
    "#### Check for Missing Values"
   ]
  },
  {
   "cell_type": "code",
   "execution_count": 12,
   "id": "f2fa9970-92e6-4938-8c95-d607c59518ee",
   "metadata": {},
   "outputs": [
    {
     "name": "stdout",
     "output_type": "stream",
     "text": [
      "Missing values in each column:\n",
      "_id               0\n",
      "barcode           0\n",
      "category        155\n",
      "categoryCode    650\n",
      "name              0\n",
      "topBrand        612\n",
      "brandCode       234\n",
      "cpg.$id           0\n",
      "cpg.$ref          0\n",
      "dtype: int64\n"
     ]
    }
   ],
   "source": [
    "# Check for missing values (NaN)\n",
    "missing_values = brands_df.isnull().sum()\n",
    "print(f\"Missing values in each column:\\n{missing_values}\")"
   ]
  },
  {
   "cell_type": "markdown",
   "id": "1caa7710-de90-463f-921c-8950d33d9912",
   "metadata": {},
   "source": [
    "Category (155 missing values): Some products do not have a category assigned. This makes it difficult to classify products or analyze them by product type.\n",
    "\n",
    "CategoryCode (650 missing values): A significant number of products are missing their corresponding categoryCode, which might be necessary for linking products to specific categories.\n",
    "\n",
    "TopBrand (612 missing values): Many products do not indicate whether they are a top brand. This could affect marketing analysis or promotions for premium products.\n",
    "\n",
    "BrandCode (234 missing values): Missing brand codes can make it hard to identify the manufacturer or brand associated with a product, leading to confusion when matching products with brands."
   ]
  },
  {
   "cell_type": "markdown",
   "id": "5df99d82-7165-4534-9b15-d8b0be6c949d",
   "metadata": {},
   "source": [
    "#### Check for Duplicates"
   ]
  },
  {
   "cell_type": "code",
   "execution_count": 13,
   "id": "80c57672-9025-4c9a-81db-c2754ab239b7",
   "metadata": {},
   "outputs": [
    {
     "name": "stdout",
     "output_type": "stream",
     "text": [
      "Number of duplicate rows: 0\n",
      "Number of duplicate '_id': 0\n",
      "Number of duplicate barcodes: 7\n"
     ]
    }
   ],
   "source": [
    "# Check for duplicate rows in the entire dataset\n",
    "duplicate_rows = brands_df[brands_df.duplicated()]\n",
    "print(f\"Number of duplicate rows: {len(duplicate_rows)}\")\n",
    "\n",
    "# Check for duplicate '_id' (which should be unique)\n",
    "duplicate_ids = brands_df[brands_df['_id'].duplicated()]\n",
    "print(f\"Number of duplicate '_id': {len(duplicate_ids)}\")\n",
    "\n",
    "# Check for duplicate 'barcode' (which should also be unique)\n",
    "duplicate_barcodes = brands_df[brands_df['barcode'].duplicated()]\n",
    "print(f\"Number of duplicate barcodes: {len(duplicate_barcodes)}\")"
   ]
  },
  {
   "cell_type": "markdown",
   "id": "6f91329e-c81a-4472-8f38-9a428c0dfaed",
   "metadata": {},
   "source": [
    "There are 7 duplicate barcodes, which is a problem because barcodes are supposed to uniquely identify products. Having the same barcode for different products can cause confusion and errors in product identification, inventory management, and sales tracking."
   ]
  },
  {
   "cell_type": "markdown",
   "id": "c1eb819a-08e7-4194-825d-60bdb351c9f2",
   "metadata": {},
   "source": [
    "#### Check for Inconsistent topBrand Values\n",
    "The topBrand field, despite being a boolean in the original data, is represented as 0 and 1 in dataset. This is to check if any invalid values (outside of 0 or 1) exist in the dataset."
   ]
  },
  {
   "cell_type": "code",
   "execution_count": 14,
   "id": "84ad2dfc-e966-4f51-92a1-4c7fb1821e91",
   "metadata": {},
   "outputs": [
    {
     "name": "stdout",
     "output_type": "stream",
     "text": [
      "Number of invalid 'topBrand' values: 612\n",
      "[nan]\n"
     ]
    }
   ],
   "source": [
    "# Check for invalid 'topBrand' values (anything other than 0 or 1)\n",
    "invalid_topBrand = brands_df[~brands_df['topBrand'].isin([0, 1])]\n",
    "print(f\"Number of invalid 'topBrand' values: {len(invalid_topBrand)}\")\n",
    "print(invalid_topBrand[\"topBrand\"].unique())"
   ]
  },
  {
   "cell_type": "markdown",
   "id": "8c9a9fc0-bfcc-4142-81ba-d8f29eb2c8e2",
   "metadata": {},
   "source": [
    "#### Check for Invalid Characters in name Field\n",
    "The name field should not contain any suspicious or invalid patterns (like placeholders or test data)"
   ]
  },
  {
   "cell_type": "code",
   "execution_count": 15,
   "id": "a9a67a1f-b71d-40ed-a91f-06e4e1a492fc",
   "metadata": {},
   "outputs": [
    {
     "name": "stdout",
     "output_type": "stream",
     "text": [
      "Number of suspicious brand names: 432\n"
     ]
    }
   ],
   "source": [
    "# Check for suspicious 'name' patterns (e.g., containing the word \"test\")\n",
    "suspicious_names = brands_df[brands_df['name'].str.contains('test', case=False, na=False)]\n",
    "print(f\"Number of suspicious brand names: {len(suspicious_names)}\")\n"
   ]
  },
  {
   "cell_type": "markdown",
   "id": "1c2744ef-6b6e-4051-82e8-42086562807d",
   "metadata": {},
   "source": [
    "#### Check for Incomplete or Suspicious brandCode Values\n",
    "brandCode should ideally follow a consistent pattern (e.g., not containing placeholder values like \"TEST\")"
   ]
  },
  {
   "cell_type": "code",
   "execution_count": 16,
   "id": "185aa2ca-3a2c-4b33-8e2d-e85f5b1dcd60",
   "metadata": {},
   "outputs": [
    {
     "name": "stdout",
     "output_type": "stream",
     "text": [
      "Number of suspicious brandCodes: 360\n"
     ]
    }
   ],
   "source": [
    "# Check for placeholder or suspicious brandCode patterns (e.g., containing \"TEST\")\n",
    "suspicious_brandCodes = brands_df[brands_df['brandCode'].str.contains('TEST', case=False, na=False)]\n",
    "print(f\"Number of suspicious brandCodes: {len(suspicious_brandCodes)}\")\n"
   ]
  },
  {
   "cell_type": "markdown",
   "id": "ce59ac2b-47b6-4550-ab2e-c9955a7d87a4",
   "metadata": {},
   "source": [
    "The analysis found 360 instances where the brandCode contains the word \"TEST\". This suggests the presence of placeholder or test data in the dataset, which may not represent real products."
   ]
  },
  {
   "cell_type": "markdown",
   "id": "86c91597-7455-4267-bee7-3fa75293eab0",
   "metadata": {},
   "source": [
    "#### Barcode Consistency Check: Identifying Conflicting Product Information"
   ]
  },
  {
   "cell_type": "code",
   "execution_count": 17,
   "id": "1f1b0e0f-d752-47dd-8265-9202b27399e3",
   "metadata": {},
   "outputs": [
    {
     "name": "stdout",
     "output_type": "stream",
     "text": [
      "Number of barcodes with conflicting information: 14\n",
      "Conflicting barcode records:\n"
     ]
    },
    {
     "data": {
      "text/plain": [
       "array([511111504788, 511111305125, 511111504139, 511111204923,\n",
       "       511111605058, 511111004790, 511111704140], dtype=int64)"
      ]
     },
     "metadata": {},
     "output_type": "display_data"
    },
    {
     "data": {
      "text/html": [
       "<div>\n",
       "<style scoped>\n",
       "    .dataframe tbody tr th:only-of-type {\n",
       "        vertical-align: middle;\n",
       "    }\n",
       "\n",
       "    .dataframe tbody tr th {\n",
       "        vertical-align: top;\n",
       "    }\n",
       "\n",
       "    .dataframe thead th {\n",
       "        text-align: right;\n",
       "    }\n",
       "</style>\n",
       "<table border=\"1\" class=\"dataframe\">\n",
       "  <thead>\n",
       "    <tr style=\"text-align: right;\">\n",
       "      <th></th>\n",
       "      <th>_id</th>\n",
       "      <th>barcode</th>\n",
       "      <th>category</th>\n",
       "      <th>categoryCode</th>\n",
       "      <th>name</th>\n",
       "      <th>topBrand</th>\n",
       "      <th>brandCode</th>\n",
       "      <th>cpg.$id</th>\n",
       "      <th>cpg.$ref</th>\n",
       "    </tr>\n",
       "  </thead>\n",
       "  <tbody>\n",
       "    <tr>\n",
       "      <th>9</th>\n",
       "      <td>5c408e8bcd244a1fdb47aee7</td>\n",
       "      <td>511111504788</td>\n",
       "      <td>Baking</td>\n",
       "      <td>NaN</td>\n",
       "      <td>test</td>\n",
       "      <td>NaN</td>\n",
       "      <td>TEST</td>\n",
       "      <td>59ba6f1ce4b092b29c167346</td>\n",
       "      <td>Cogs</td>\n",
       "    </tr>\n",
       "    <tr>\n",
       "      <th>20</th>\n",
       "      <td>5c4699f387ff3577e203ea29</td>\n",
       "      <td>511111305125</td>\n",
       "      <td>Baby</td>\n",
       "      <td>NaN</td>\n",
       "      <td>Chris Image Test</td>\n",
       "      <td>NaN</td>\n",
       "      <td>CHRISIMAGE</td>\n",
       "      <td>55b62995e4b0d8e685c14213</td>\n",
       "      <td>Cogs</td>\n",
       "    </tr>\n",
       "    <tr>\n",
       "      <th>129</th>\n",
       "      <td>5a7e0604e4b0aedb3b84afd3</td>\n",
       "      <td>511111504139</td>\n",
       "      <td>Beverages</td>\n",
       "      <td>NaN</td>\n",
       "      <td>Chris Brand XYZ</td>\n",
       "      <td>NaN</td>\n",
       "      <td>CHRISXYZ</td>\n",
       "      <td>55b62995e4b0d8e685c14213</td>\n",
       "      <td>Cogs</td>\n",
       "    </tr>\n",
       "    <tr>\n",
       "      <th>152</th>\n",
       "      <td>5c45f91b87ff3552f950f027</td>\n",
       "      <td>511111204923</td>\n",
       "      <td>Grocery</td>\n",
       "      <td>NaN</td>\n",
       "      <td>Brand1</td>\n",
       "      <td>1.0</td>\n",
       "      <td>0987654321</td>\n",
       "      <td>5c45f8b087ff3552f950f026</td>\n",
       "      <td>Cogs</td>\n",
       "    </tr>\n",
       "    <tr>\n",
       "      <th>194</th>\n",
       "      <td>5d6415d5a3a018514994f429</td>\n",
       "      <td>511111605058</td>\n",
       "      <td>Magazines</td>\n",
       "      <td>NaN</td>\n",
       "      <td>Health Magazine</td>\n",
       "      <td>NaN</td>\n",
       "      <td>511111605058</td>\n",
       "      <td>5d5d4fd16d5f3b23d1bc7905</td>\n",
       "      <td>Cogs</td>\n",
       "    </tr>\n",
       "    <tr>\n",
       "      <th>299</th>\n",
       "      <td>5a8c33f3e4b07f0a2dac8943</td>\n",
       "      <td>511111504139</td>\n",
       "      <td>Grocery</td>\n",
       "      <td>NaN</td>\n",
       "      <td>Pace</td>\n",
       "      <td>0.0</td>\n",
       "      <td>PACE</td>\n",
       "      <td>5a734034e4b0d58f376be874</td>\n",
       "      <td>Cogs</td>\n",
       "    </tr>\n",
       "    <tr>\n",
       "      <th>412</th>\n",
       "      <td>5ccb2ece166eb31bbbadccbe</td>\n",
       "      <td>511111504788</td>\n",
       "      <td>Condiments &amp; Sauces</td>\n",
       "      <td>NaN</td>\n",
       "      <td>The Pioneer Woman</td>\n",
       "      <td>NaN</td>\n",
       "      <td>PIONEER WOMAN</td>\n",
       "      <td>559c2234e4b06aca36af13c6</td>\n",
       "      <td>Cogs</td>\n",
       "    </tr>\n",
       "    <tr>\n",
       "      <th>467</th>\n",
       "      <td>5c409ab4cd244a3539b84162</td>\n",
       "      <td>511111004790</td>\n",
       "      <td>Baking</td>\n",
       "      <td>NaN</td>\n",
       "      <td>alexa</td>\n",
       "      <td>1.0</td>\n",
       "      <td>ALEXA</td>\n",
       "      <td>55b62995e4b0d8e685c14213</td>\n",
       "      <td>Cogs</td>\n",
       "    </tr>\n",
       "    <tr>\n",
       "      <th>536</th>\n",
       "      <td>5d6027f46d5f3b23d1bc7906</td>\n",
       "      <td>511111204923</td>\n",
       "      <td>Snacks</td>\n",
       "      <td>NaN</td>\n",
       "      <td>CHESTER'S</td>\n",
       "      <td>NaN</td>\n",
       "      <td>CHESTERS</td>\n",
       "      <td>5332f5fbe4b03c9a25efd0ba</td>\n",
       "      <td>Cogs</td>\n",
       "    </tr>\n",
       "    <tr>\n",
       "      <th>651</th>\n",
       "      <td>5d642d65a3a018514994f42d</td>\n",
       "      <td>511111305125</td>\n",
       "      <td>Magazines</td>\n",
       "      <td>NaN</td>\n",
       "      <td>Rachael Ray Everyday</td>\n",
       "      <td>NaN</td>\n",
       "      <td>511111305125</td>\n",
       "      <td>5d5d4fd16d5f3b23d1bc7905</td>\n",
       "      <td>Cogs</td>\n",
       "    </tr>\n",
       "    <tr>\n",
       "      <th>1002</th>\n",
       "      <td>5a8c344ae4b0ccf165fac9e5</td>\n",
       "      <td>511111704140</td>\n",
       "      <td>Condiments &amp; Sauces</td>\n",
       "      <td>NaN</td>\n",
       "      <td>Prego</td>\n",
       "      <td>0.0</td>\n",
       "      <td>PREGO</td>\n",
       "      <td>5a734034e4b0d58f376be874</td>\n",
       "      <td>Cogs</td>\n",
       "    </tr>\n",
       "    <tr>\n",
       "      <th>1012</th>\n",
       "      <td>5c4637ba87ff35681e840d57</td>\n",
       "      <td>511111605058</td>\n",
       "      <td>Dairy</td>\n",
       "      <td>NaN</td>\n",
       "      <td>Brand2</td>\n",
       "      <td>1.0</td>\n",
       "      <td>09090909090</td>\n",
       "      <td>5c45f8b087ff3552f950f026</td>\n",
       "      <td>Cogs</td>\n",
       "    </tr>\n",
       "    <tr>\n",
       "      <th>1015</th>\n",
       "      <td>5a7e0665e4b0aedb3b84afd4</td>\n",
       "      <td>511111704140</td>\n",
       "      <td>NaN</td>\n",
       "      <td>NaN</td>\n",
       "      <td>Diet Chris Cola</td>\n",
       "      <td>NaN</td>\n",
       "      <td>DIETCHRIS2</td>\n",
       "      <td>55b62995e4b0d8e685c14213</td>\n",
       "      <td>Cogs</td>\n",
       "    </tr>\n",
       "    <tr>\n",
       "      <th>1071</th>\n",
       "      <td>5cdacd63166eb33eb7ce0fa8</td>\n",
       "      <td>511111004790</td>\n",
       "      <td>Condiments &amp; Sauces</td>\n",
       "      <td>NaN</td>\n",
       "      <td>Bitten Dressing</td>\n",
       "      <td>NaN</td>\n",
       "      <td>BITTEN</td>\n",
       "      <td>559c2234e4b06aca36af13c6</td>\n",
       "      <td>Cogs</td>\n",
       "    </tr>\n",
       "  </tbody>\n",
       "</table>\n",
       "</div>"
      ],
      "text/plain": [
       "                           _id       barcode             category  \\\n",
       "9     5c408e8bcd244a1fdb47aee7  511111504788               Baking   \n",
       "20    5c4699f387ff3577e203ea29  511111305125                 Baby   \n",
       "129   5a7e0604e4b0aedb3b84afd3  511111504139            Beverages   \n",
       "152   5c45f91b87ff3552f950f027  511111204923              Grocery   \n",
       "194   5d6415d5a3a018514994f429  511111605058            Magazines   \n",
       "299   5a8c33f3e4b07f0a2dac8943  511111504139              Grocery   \n",
       "412   5ccb2ece166eb31bbbadccbe  511111504788  Condiments & Sauces   \n",
       "467   5c409ab4cd244a3539b84162  511111004790               Baking   \n",
       "536   5d6027f46d5f3b23d1bc7906  511111204923               Snacks   \n",
       "651   5d642d65a3a018514994f42d  511111305125            Magazines   \n",
       "1002  5a8c344ae4b0ccf165fac9e5  511111704140  Condiments & Sauces   \n",
       "1012  5c4637ba87ff35681e840d57  511111605058                Dairy   \n",
       "1015  5a7e0665e4b0aedb3b84afd4  511111704140                  NaN   \n",
       "1071  5cdacd63166eb33eb7ce0fa8  511111004790  Condiments & Sauces   \n",
       "\n",
       "     categoryCode                  name  topBrand      brandCode  \\\n",
       "9             NaN                  test       NaN           TEST   \n",
       "20            NaN      Chris Image Test       NaN     CHRISIMAGE   \n",
       "129           NaN       Chris Brand XYZ       NaN       CHRISXYZ   \n",
       "152           NaN                Brand1       1.0     0987654321   \n",
       "194           NaN       Health Magazine       NaN   511111605058   \n",
       "299           NaN                  Pace       0.0           PACE   \n",
       "412           NaN     The Pioneer Woman       NaN  PIONEER WOMAN   \n",
       "467           NaN                 alexa       1.0          ALEXA   \n",
       "536           NaN             CHESTER'S       NaN       CHESTERS   \n",
       "651           NaN  Rachael Ray Everyday       NaN   511111305125   \n",
       "1002          NaN                 Prego       0.0          PREGO   \n",
       "1012          NaN                Brand2       1.0    09090909090   \n",
       "1015          NaN       Diet Chris Cola       NaN     DIETCHRIS2   \n",
       "1071          NaN       Bitten Dressing       NaN         BITTEN   \n",
       "\n",
       "                       cpg.$id cpg.$ref  \n",
       "9     59ba6f1ce4b092b29c167346     Cogs  \n",
       "20    55b62995e4b0d8e685c14213     Cogs  \n",
       "129   55b62995e4b0d8e685c14213     Cogs  \n",
       "152   5c45f8b087ff3552f950f026     Cogs  \n",
       "194   5d5d4fd16d5f3b23d1bc7905     Cogs  \n",
       "299   5a734034e4b0d58f376be874     Cogs  \n",
       "412   559c2234e4b06aca36af13c6     Cogs  \n",
       "467   55b62995e4b0d8e685c14213     Cogs  \n",
       "536   5332f5fbe4b03c9a25efd0ba     Cogs  \n",
       "651   5d5d4fd16d5f3b23d1bc7905     Cogs  \n",
       "1002  5a734034e4b0d58f376be874     Cogs  \n",
       "1012  5c45f8b087ff3552f950f026     Cogs  \n",
       "1015  55b62995e4b0d8e685c14213     Cogs  \n",
       "1071  559c2234e4b06aca36af13c6     Cogs  "
      ]
     },
     "metadata": {},
     "output_type": "display_data"
    }
   ],
   "source": [
    "# Group by 'barcode' and check for conflicting values in other fields\n",
    "conflicting_barcodes = brands_df.groupby('barcode').filter(lambda x: x.nunique().sum() > len(x.columns))\n",
    "print(f\"Number of barcodes with conflicting information: {len(conflicting_barcodes)}\")\n",
    "\n",
    "# Display conflicting records in a table format\n",
    "if len(conflicting_barcodes) > 0:\n",
    "    print(\"Conflicting barcode records:\")\n",
    "    display(conflicting_barcodes['barcode'].unique())\n",
    "    display(conflicting_barcodes)  # This will display the data in a table format if you are using Jupyter Notebooks or tools that support DataFrame display\n",
    "else:\n",
    "    print(\"No conflicting barcode records found.\")\n"
   ]
  },
  {
   "cell_type": "markdown",
   "id": "6068d809-820a-4776-a141-41d25d915975",
   "metadata": {},
   "source": [
    "This result shows that there are problems with data accuracy because the same barcode is being used for different products. Barcodes are supposed to uniquely identify one specific product, but in this case, a single barcode is linked to multiple names.\n",
    "\n",
    "Example:\n",
    "Barcode 511111504788:\n",
    "Row 9: Linked to a test product called \"test\".\n",
    "Row 412: Linked to a real product called \"The Pioneer Woman\".\n",
    "This means the same barcode is used for two different items, which can lead to confusion in identifying products, mistakes in inventory, and errors during sales. It suggests that the data is either incorrect or incomplete."
   ]
  },
  {
   "cell_type": "markdown",
   "id": "c034fab5-b27a-4fe2-89f2-a4c19ee9c014",
   "metadata": {},
   "source": [
    "### 3. Receipts Data"
   ]
  },
  {
   "cell_type": "markdown",
   "id": "1c9a55e3-3a4b-45ba-bd24-a1ed16933ee0",
   "metadata": {},
   "source": [
    "#### Overview of the Data"
   ]
  },
  {
   "cell_type": "code",
   "execution_count": 18,
   "id": "febf706c-d288-4d21-95c3-11c7e416608f",
   "metadata": {
    "scrolled": true
   },
   "outputs": [
    {
     "name": "stdout",
     "output_type": "stream",
     "text": [
      "Data types of each column:\n",
      "_id                         object\n",
      "bonusPointsEarned          float64\n",
      "bonusPointsEarnedReason     object\n",
      "createDate                  object\n",
      "dateScanned                 object\n",
      "finishedDate                object\n",
      "modifyDate                  object\n",
      "pointsAwardedDate           object\n",
      "pointsEarned               float64\n",
      "purchaseDate                object\n",
      "purchasedItemCount         float64\n",
      "rewardsReceiptItemList      object\n",
      "rewardsReceiptStatus        object\n",
      "totalSpent                 float64\n",
      "userId                      object\n",
      "dtype: object\n",
      "\n",
      "Shape: (1119, 15)\n"
     ]
    }
   ],
   "source": [
    "print(f\"Data types of each column:\\n{receipts_df.dtypes}\")\n",
    "print(f\"\\nShape: {receipts_df.shape}\")"
   ]
  },
  {
   "cell_type": "code",
   "execution_count": 19,
   "id": "6f403733-423d-4705-827c-a420e83b627c",
   "metadata": {
    "scrolled": true
   },
   "outputs": [
    {
     "data": {
      "text/html": [
       "<div>\n",
       "<style scoped>\n",
       "    .dataframe tbody tr th:only-of-type {\n",
       "        vertical-align: middle;\n",
       "    }\n",
       "\n",
       "    .dataframe tbody tr th {\n",
       "        vertical-align: top;\n",
       "    }\n",
       "\n",
       "    .dataframe thead th {\n",
       "        text-align: right;\n",
       "    }\n",
       "</style>\n",
       "<table border=\"1\" class=\"dataframe\">\n",
       "  <thead>\n",
       "    <tr style=\"text-align: right;\">\n",
       "      <th></th>\n",
       "      <th>_id</th>\n",
       "      <th>bonusPointsEarned</th>\n",
       "      <th>bonusPointsEarnedReason</th>\n",
       "      <th>createDate</th>\n",
       "      <th>dateScanned</th>\n",
       "      <th>finishedDate</th>\n",
       "      <th>modifyDate</th>\n",
       "      <th>pointsAwardedDate</th>\n",
       "      <th>pointsEarned</th>\n",
       "      <th>purchaseDate</th>\n",
       "      <th>purchasedItemCount</th>\n",
       "      <th>rewardsReceiptItemList</th>\n",
       "      <th>rewardsReceiptStatus</th>\n",
       "      <th>totalSpent</th>\n",
       "      <th>userId</th>\n",
       "    </tr>\n",
       "  </thead>\n",
       "  <tbody>\n",
       "    <tr>\n",
       "      <th>0</th>\n",
       "      <td>5ff1e1eb0a720f0523000575</td>\n",
       "      <td>500.00</td>\n",
       "      <td>Receipt number 2 completed, bonus point schedu...</td>\n",
       "      <td>1609687531000</td>\n",
       "      <td>1609687531000</td>\n",
       "      <td>1609687531000.00</td>\n",
       "      <td>1609687536000</td>\n",
       "      <td>1609687531000.00</td>\n",
       "      <td>500.00</td>\n",
       "      <td>1609632000000.00</td>\n",
       "      <td>5.00</td>\n",
       "      <td>[{'barcode': '4011', 'description': 'ITEM NOT ...</td>\n",
       "      <td>FINISHED</td>\n",
       "      <td>26.00</td>\n",
       "      <td>5ff1e1eacfcf6c399c274ae6</td>\n",
       "    </tr>\n",
       "    <tr>\n",
       "      <th>1</th>\n",
       "      <td>5ff1e1bb0a720f052300056b</td>\n",
       "      <td>150.00</td>\n",
       "      <td>Receipt number 5 completed, bonus point schedu...</td>\n",
       "      <td>1609687483000</td>\n",
       "      <td>1609687483000</td>\n",
       "      <td>1609687483000.00</td>\n",
       "      <td>1609687488000</td>\n",
       "      <td>1609687483000.00</td>\n",
       "      <td>150.00</td>\n",
       "      <td>1609601083000.00</td>\n",
       "      <td>2.00</td>\n",
       "      <td>[{'barcode': '4011', 'description': 'ITEM NOT ...</td>\n",
       "      <td>FINISHED</td>\n",
       "      <td>11.00</td>\n",
       "      <td>5ff1e194b6a9d73a3a9f1052</td>\n",
       "    </tr>\n",
       "    <tr>\n",
       "      <th>2</th>\n",
       "      <td>5ff1e1f10a720f052300057a</td>\n",
       "      <td>5.00</td>\n",
       "      <td>All-receipts receipt bonus</td>\n",
       "      <td>1609687537000</td>\n",
       "      <td>1609687537000</td>\n",
       "      <td>NaN</td>\n",
       "      <td>1609687542000</td>\n",
       "      <td>NaN</td>\n",
       "      <td>5.00</td>\n",
       "      <td>1609632000000.00</td>\n",
       "      <td>1.00</td>\n",
       "      <td>[{'needsFetchReview': False, 'partnerItemId': ...</td>\n",
       "      <td>REJECTED</td>\n",
       "      <td>10.00</td>\n",
       "      <td>5ff1e1f1cfcf6c399c274b0b</td>\n",
       "    </tr>\n",
       "    <tr>\n",
       "      <th>3</th>\n",
       "      <td>5ff1e1ee0a7214ada100056f</td>\n",
       "      <td>5.00</td>\n",
       "      <td>All-receipts receipt bonus</td>\n",
       "      <td>1609687534000</td>\n",
       "      <td>1609687534000</td>\n",
       "      <td>1609687534000.00</td>\n",
       "      <td>1609687539000</td>\n",
       "      <td>1609687534000.00</td>\n",
       "      <td>5.00</td>\n",
       "      <td>1609632000000.00</td>\n",
       "      <td>4.00</td>\n",
       "      <td>[{'barcode': '4011', 'description': 'ITEM NOT ...</td>\n",
       "      <td>FINISHED</td>\n",
       "      <td>28.00</td>\n",
       "      <td>5ff1e1eacfcf6c399c274ae6</td>\n",
       "    </tr>\n",
       "    <tr>\n",
       "      <th>4</th>\n",
       "      <td>5ff1e1d20a7214ada1000561</td>\n",
       "      <td>5.00</td>\n",
       "      <td>All-receipts receipt bonus</td>\n",
       "      <td>1609687506000</td>\n",
       "      <td>1609687506000</td>\n",
       "      <td>1609687511000.00</td>\n",
       "      <td>1609687511000</td>\n",
       "      <td>1609687506000.00</td>\n",
       "      <td>5.00</td>\n",
       "      <td>1609601106000.00</td>\n",
       "      <td>2.00</td>\n",
       "      <td>[{'barcode': '4011', 'description': 'ITEM NOT ...</td>\n",
       "      <td>FINISHED</td>\n",
       "      <td>1.00</td>\n",
       "      <td>5ff1e194b6a9d73a3a9f1052</td>\n",
       "    </tr>\n",
       "  </tbody>\n",
       "</table>\n",
       "</div>"
      ],
      "text/plain": [
       "                        _id  bonusPointsEarned  \\\n",
       "0  5ff1e1eb0a720f0523000575             500.00   \n",
       "1  5ff1e1bb0a720f052300056b             150.00   \n",
       "2  5ff1e1f10a720f052300057a               5.00   \n",
       "3  5ff1e1ee0a7214ada100056f               5.00   \n",
       "4  5ff1e1d20a7214ada1000561               5.00   \n",
       "\n",
       "                             bonusPointsEarnedReason     createDate  \\\n",
       "0  Receipt number 2 completed, bonus point schedu...  1609687531000   \n",
       "1  Receipt number 5 completed, bonus point schedu...  1609687483000   \n",
       "2                         All-receipts receipt bonus  1609687537000   \n",
       "3                         All-receipts receipt bonus  1609687534000   \n",
       "4                         All-receipts receipt bonus  1609687506000   \n",
       "\n",
       "     dateScanned     finishedDate     modifyDate  pointsAwardedDate  \\\n",
       "0  1609687531000 1609687531000.00  1609687536000   1609687531000.00   \n",
       "1  1609687483000 1609687483000.00  1609687488000   1609687483000.00   \n",
       "2  1609687537000              NaN  1609687542000                NaN   \n",
       "3  1609687534000 1609687534000.00  1609687539000   1609687534000.00   \n",
       "4  1609687506000 1609687511000.00  1609687511000   1609687506000.00   \n",
       "\n",
       "   pointsEarned     purchaseDate  purchasedItemCount  \\\n",
       "0        500.00 1609632000000.00                5.00   \n",
       "1        150.00 1609601083000.00                2.00   \n",
       "2          5.00 1609632000000.00                1.00   \n",
       "3          5.00 1609632000000.00                4.00   \n",
       "4          5.00 1609601106000.00                2.00   \n",
       "\n",
       "                              rewardsReceiptItemList rewardsReceiptStatus  \\\n",
       "0  [{'barcode': '4011', 'description': 'ITEM NOT ...             FINISHED   \n",
       "1  [{'barcode': '4011', 'description': 'ITEM NOT ...             FINISHED   \n",
       "2  [{'needsFetchReview': False, 'partnerItemId': ...             REJECTED   \n",
       "3  [{'barcode': '4011', 'description': 'ITEM NOT ...             FINISHED   \n",
       "4  [{'barcode': '4011', 'description': 'ITEM NOT ...             FINISHED   \n",
       "\n",
       "   totalSpent                    userId  \n",
       "0       26.00  5ff1e1eacfcf6c399c274ae6  \n",
       "1       11.00  5ff1e194b6a9d73a3a9f1052  \n",
       "2       10.00  5ff1e1f1cfcf6c399c274b0b  \n",
       "3       28.00  5ff1e1eacfcf6c399c274ae6  \n",
       "4        1.00  5ff1e194b6a9d73a3a9f1052  "
      ]
     },
     "execution_count": 19,
     "metadata": {},
     "output_type": "execute_result"
    }
   ],
   "source": [
    "# Flatten the nested objects \n",
    "receipts_df['_id'] = receipts_df['_id'].apply(lambda x: x['$oid'] if isinstance(x, dict) and '$oid' in x else x)\n",
    "receipts_df['createDate'] = receipts_df['createDate'].apply(lambda x: x['$date'] if isinstance(x, dict) and '$date' in x else x)\n",
    "receipts_df['dateScanned'] = receipts_df['dateScanned'].apply(lambda x: x['$date'] if isinstance(x, dict) and '$date' in x else x)\n",
    "receipts_df['finishedDate'] = receipts_df['finishedDate'].apply(lambda x: x['$date'] if isinstance(x, dict) and '$date' in x else x)\n",
    "receipts_df['modifyDate'] = receipts_df['modifyDate'].apply(lambda x: x['$date'] if isinstance(x, dict) and '$date' in x else x)\n",
    "receipts_df['pointsAwardedDate'] = receipts_df['pointsAwardedDate'].apply(lambda x: x['$date'] if isinstance(x, dict) and '$date' in x else x)\n",
    "receipts_df['purchaseDate'] = receipts_df['purchaseDate'].apply(lambda x: x['$date'] if isinstance(x, dict) and '$date' in x else x)\n",
    "\n",
    "# pandas option to display floats without scientific notation\n",
    "pd.set_option('display.float_format', '{:.2f}'.format)\n",
    "\n",
    "receipts_df.head()"
   ]
  },
  {
   "cell_type": "code",
   "execution_count": 20,
   "id": "91216066-cd85-420d-9013-02d4d635d8b0",
   "metadata": {},
   "outputs": [
    {
     "name": "stdout",
     "output_type": "stream",
     "text": [
      "Missing values in each column:\n",
      "_id                          0\n",
      "bonusPointsEarned          575\n",
      "bonusPointsEarnedReason    575\n",
      "createDate                   0\n",
      "dateScanned                  0\n",
      "finishedDate               551\n",
      "modifyDate                   0\n",
      "pointsAwardedDate          582\n",
      "pointsEarned               510\n",
      "purchaseDate               448\n",
      "purchasedItemCount         484\n",
      "rewardsReceiptItemList     440\n",
      "rewardsReceiptStatus         0\n",
      "totalSpent                 435\n",
      "userId                       0\n",
      "dtype: int64\n"
     ]
    }
   ],
   "source": [
    "# Check for missing values in the DataFrame\n",
    "missing_values = receipts_df.isnull().sum()\n",
    "print(\"Missing values in each column:\")\n",
    "print(missing_values)"
   ]
  },
  {
   "cell_type": "markdown",
   "id": "9c3d30d1-5294-48c8-b66a-fae23707b571",
   "metadata": {},
   "source": [
    "#### Check for Duplicates"
   ]
  },
  {
   "cell_type": "code",
   "execution_count": 21,
   "id": "317a8596-c208-450b-a0ab-30d73467ca29",
   "metadata": {},
   "outputs": [
    {
     "name": "stdout",
     "output_type": "stream",
     "text": [
      "Number of duplicate '_id': 0\n"
     ]
    }
   ],
   "source": [
    "# Check for duplicate '_id' fields\n",
    "duplicate_ids = receipts_df[receipts_df['_id'].duplicated()]\n",
    "print(f\"Number of duplicate '_id': {len(duplicate_ids)}\")"
   ]
  },
  {
   "cell_type": "markdown",
   "id": "1fa9ba77-14b5-4c74-8c1c-c93707416dbf",
   "metadata": {},
   "source": [
    "#### Check for Invalid Dates\n",
    "Dates should follow a logical order, such as purchaseDate being before dateScanned and pointsAwardedDate."
   ]
  },
  {
   "cell_type": "code",
   "execution_count": 22,
   "id": "af0de9fd-1369-4e77-94cb-5a2cfd227a06",
   "metadata": {},
   "outputs": [
    {
     "name": "stdout",
     "output_type": "stream",
     "text": [
      "Number of records where 'purchaseDate' is after 'dateScanned': 13\n",
      "Number of records where 'pointsAwardedDate' is before 'purchaseDate': 7\n"
     ]
    }
   ],
   "source": [
    "# Check if 'purchaseDate' is before 'dateScanned'\n",
    "invalid_dates = receipts_df[receipts_df['purchaseDate'] > receipts_df['dateScanned']]\n",
    "print(f\"Number of records where 'purchaseDate' is after 'dateScanned': {invalid_dates.shape[0]}\")\n",
    "\n",
    "# Check if 'pointsAwardedDate' is after 'purchaseDate'\n",
    "invalid_points_awarded_date = receipts_df[receipts_df['purchaseDate'] > receipts_df['pointsAwardedDate']]\n",
    "print(f\"Number of records where 'pointsAwardedDate' is before 'purchaseDate': {invalid_points_awarded_date.shape[0]}\")\n"
   ]
  },
  {
   "cell_type": "markdown",
   "id": "c2fe0597-d4b1-427b-b29b-8be10abf5252",
   "metadata": {},
   "source": [
    "_13 records where purchaseDate is after dateScanned:_\n",
    "\n",
    "This means that in 13 instances, receipts were scanned before the purchase took place, which is logically incorrect. These records likely contain data entry or processing errors.\n",
    "\n",
    "_7 records where pointsAwardedDate is before purchaseDate:_\n",
    "\n",
    "In these 7 cases, points were awarded before the purchase was made, which is also incorrect. Points should only be awarded after the purchase is completed, so these records reflect a system or data issue."
   ]
  }
 ],
 "metadata": {
  "kernelspec": {
   "display_name": "Python 3 (ipykernel)",
   "language": "python",
   "name": "python3"
  },
  "language_info": {
   "codemirror_mode": {
    "name": "ipython",
    "version": 3
   },
   "file_extension": ".py",
   "mimetype": "text/x-python",
   "name": "python",
   "nbconvert_exporter": "python",
   "pygments_lexer": "ipython3",
   "version": "3.10.7"
  }
 },
 "nbformat": 4,
 "nbformat_minor": 5
}
